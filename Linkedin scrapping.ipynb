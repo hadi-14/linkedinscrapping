{
 "cells": [
  {
   "cell_type": "code",
   "execution_count": 13,
   "id": "c016c496",
   "metadata": {},
   "outputs": [],
   "source": [
    "from selenium import webdriver\n",
    "from selenium.webdriver.common.by import By\n",
    "from selenium.webdriver.support.ui import WebDriverWait\n",
    "from selenium.webdriver.support import expected_conditions as EC\n",
    "from selenium.webdriver.common.action_chains import ActionChains\n",
    "from webdriver_manager.chrome import ChromeDriverManager\n",
    "import csv\n",
    "import time"
   ]
  },
  {
   "cell_type": "code",
   "execution_count": 42,
   "id": "41583880",
   "metadata": {},
   "outputs": [
    {
     "name": "stderr",
     "output_type": "stream",
     "text": [
      "C:\\Users\\Hadi-PC\\AppData\\Local\\Temp\\ipykernel_15192\\1197811035.py:1: DeprecationWarning: executable_path has been deprecated, please pass in a Service object\n",
      "  driver = webdriver.Chrome(ChromeDriverManager().install())\n"
     ]
    }
   ],
   "source": [
    "driver = webdriver.Chrome(ChromeDriverManager().install())\n",
    "\n",
    "driver.get(\"https://www.linkedin.com/jobs/search/?currentJobId=3308450031&geoId=&keywords=Data%20Scientist&location=canada\")"
   ]
  },
  {
   "cell_type": "code",
   "execution_count": null,
   "id": "7868c697",
   "metadata": {
    "scrolled": true
   },
   "outputs": [],
   "source": [
    "driver.maximize_window()\n",
    "\n",
    "actions = ActionChains(driver)\n",
    "\n",
    "jobs_done = []\n",
    "\n",
    "file = open('data.csv','w')\n",
    "writer = csv.writer(file, delimiter=',')\n",
    "writer.writerow([\"title\", \"location\", \"company\", \"job description\"])\n",
    "\n",
    "while True:\n",
    "    \n",
    "    jobs_card = driver.find_elements(By.XPATH,\"//a[@data-tracking-control-name='public_jobs_jserp-result_search-card']\")\n",
    "\n",
    "    for job in jobs_card:\n",
    "\n",
    "        if job in jobs_done:\n",
    "            continue\n",
    "        else:\n",
    "            jobs_done.append(job)\n",
    "\n",
    "        actions.move_to_element(job).perform()\n",
    "\n",
    "        job.click()\n",
    "\n",
    "        time.sleep(0.5)\n",
    "\n",
    "        location = WebDriverWait(driver,100).until(EC.visibility_of_element_located((By.XPATH,\"//span[@class='topcard__flavor topcard__flavor--bullet']\"))).text\n",
    "\n",
    "        title = driver.find_element(By.XPATH,\"//h2\").text\n",
    "    #     location = driver.find_element(By.XPATH,\"//span[@class='topcard__flavor topcard__flavor--bullet']\").text\n",
    "        company = driver.find_element(By.XPATH,\"//span[@class='topcard__flavor']\").text\n",
    "\n",
    "        try:\n",
    "            #clicks on see more\n",
    "            actions.move_to_element(WebDriverWait(driver,1).until(EC.presence_of_element_located((By.XPATH,\"//button[@data-tracking-control-name='public_jobs_show-more-html-btn']\")))).click().perform()\n",
    "            time.sleep(1)\n",
    "        except:pass\n",
    "\n",
    "        details = driver.find_element(By.XPATH,\"//div[@class='show-more-less-html__markup']\").text\n",
    "\n",
    "        writer.writerow([title, location, company, details])\n",
    "\n",
    "        time.sleep(0.5)\n"
   ]
  },
  {
   "cell_type": "code",
   "execution_count": null,
   "id": "805980b4",
   "metadata": {},
   "outputs": [],
   "source": []
  }
 ],
 "metadata": {
  "kernelspec": {
   "display_name": "Python 3 (ipykernel)",
   "language": "python",
   "name": "python3"
  },
  "language_info": {
   "codemirror_mode": {
    "name": "ipython",
    "version": 3
   },
   "file_extension": ".py",
   "mimetype": "text/x-python",
   "name": "python",
   "nbconvert_exporter": "python",
   "pygments_lexer": "ipython3",
   "version": "3.9.12"
  }
 },
 "nbformat": 4,
 "nbformat_minor": 5
}
