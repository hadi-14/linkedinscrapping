{
 "cells": [
  {
   "cell_type": "code",
   "execution_count": 2,
   "id": "c016c496",
   "metadata": {},
   "outputs": [],
   "source": [
    "from selenium import webdriver\n",
    "from selenium.webdriver.common.by import By\n",
    "from selenium.webdriver.support.wait import WebDriverWait\n",
    "from selenium.webdriver.support import expected_conditions as EC\n",
    "from selenium.webdriver.common.action_chains import ActionChains\n",
    "from selenium.webdriver.common.keys import Keys\n",
    "from webdriver_manager.chrome import ChromeDriverManager\n",
    "import csv\n",
    "import time"
   ]
  },
  {
   "cell_type": "code",
   "execution_count": 15,
   "id": "41583880",
   "metadata": {},
   "outputs": [
    {
     "name": "stderr",
     "output_type": "stream",
     "text": [
      "C:\\Users\\Hadi-PC\\AppData\\Local\\Temp\\ipykernel_1732\\2053871036.py:6: DeprecationWarning: executable_path has been deprecated, please pass in a Service object\n",
      "  driver = driver = webdriver.Chrome(ChromeDriverManager().install(),options=co)\n"
     ]
    }
   ],
   "source": [
    "co = webdriver.ChromeOptions()\n",
    "co.add_argument(\"--start-maximized\")\n",
    "co.add_argument('--disable-gpu')\n",
    "co.add_argument('--disable-infobars')\n",
    "\n",
    "driver = driver = webdriver.Chrome(ChromeDriverManager().install(),options=co)\n",
    "\n",
    "driver.get(\"https://www.linkedin.com/jobs/search/?currentJobId=3308450031&geoId=&keywords=Data%20Scientist&location=canada\")"
   ]
  },
  {
   "cell_type": "code",
   "execution_count": 16,
   "id": "7868c697",
   "metadata": {
    "scrolled": true
   },
   "outputs": [],
   "source": [
    "def check():\n",
    "    try:\n",
    "        WebDriverWait(driver,0.5).until(EC.visibility_of_element_located((By.XPATH, \"//*[@aria-label='Load more results']\")))\n",
    "        return False\n",
    "    except:\n",
    "        return True\n",
    "\n",
    "actions = ActionChains(driver)\n",
    "\n",
    "file = open('data.csv','w', newline='',encoding=\"utf-8\")\n",
    "writer = csv.writer(file)\n",
    "writer.writerow([\"Title\", \"Location\", \"Company\", \"Job description\", \"Employement Type\"])\n",
    "\n",
    "while check():\n",
    "    driver.find_element(By.XPATH, \"//*[@dir='ltr']\").send_keys(Keys.PAGE_DOWN)\n",
    "    driver.find_element(By.XPATH, \"//*[@aria-label='Load more results']\")\n",
    "    \n",
    "jobs_card = driver.find_elements(By.XPATH,\"//a[@data-tracking-control-name='public_jobs_jserp-result_search-card']\")\n",
    "\n",
    "last_job = jobs_card[0]\n",
    "\n",
    "for job in jobs_card:\n",
    "\n",
    "    actions.move_to_element(job).perform()\n",
    "    job.click()\n",
    "\n",
    "    time.sleep(1)\n",
    "\n",
    "    try:\n",
    "        location = WebDriverWait(driver,1).until(EC.visibility_of_element_located((By.XPATH,\"//span[@class='topcard__flavor topcard__flavor--bullet']\"))).text\n",
    "    except:\n",
    "        while True:\n",
    "            try:\n",
    "                actions.move_to_element(last_job).perform()\n",
    "                actions.click(last_job).perform()\n",
    "\n",
    "                time.sleep(1)\n",
    "\n",
    "                actions.move_to_element(job).perform()\n",
    "                actions.click(job).perform()\n",
    "                location = WebDriverWait(driver,1).until(EC.visibility_of_element_located((By.XPATH,\"//span[@class='topcard__flavor topcard__flavor--bullet']\"))).text\n",
    "                break\n",
    "            except:pass\n",
    "\n",
    "    title = driver.find_element(By.XPATH,\"//h2\").text\n",
    "    company = driver.find_element(By.XPATH,\"//span[@class='topcard__flavor']\").text\n",
    "    Employement_type = driver.find_element(By.XPATH,\"//h3[contains(text(),'Employment type')]/../span\").text\n",
    "\n",
    "    try:\n",
    "        #clicks on see more\n",
    "        actions.move_to_element(WebDriverWait(driver,1).until(EC.presence_of_element_located((By.XPATH,\"//button[@data-tracking-control-name='public_jobs_show-more-html-btn']\")))).click().perform()\n",
    "    except:pass\n",
    "\n",
    "    details = driver.find_element(By.XPATH, \"//*[@class='description__text description__text--rich']\").text\n",
    "\n",
    "    last_job = job\n",
    "\n",
    "    writer.writerow([title, location, company, details, Employement_type])\n",
    "    "
   ]
  },
  {
   "cell_type": "code",
   "execution_count": 17,
   "id": "7de32944",
   "metadata": {},
   "outputs": [
    {
     "data": {
      "text/plain": [
       "175"
      ]
     },
     "execution_count": 17,
     "metadata": {},
     "output_type": "execute_result"
    }
   ],
   "source": [
    "len(jobs_card)"
   ]
  },
  {
   "cell_type": "code",
   "execution_count": null,
   "id": "d5740a13",
   "metadata": {},
   "outputs": [],
   "source": []
  }
 ],
 "metadata": {
  "kernelspec": {
   "display_name": "Python 3.9.12 ('base')",
   "language": "python",
   "name": "python3"
  },
  "language_info": {
   "codemirror_mode": {
    "name": "ipython",
    "version": 3
   },
   "file_extension": ".py",
   "mimetype": "text/x-python",
   "name": "python",
   "nbconvert_exporter": "python",
   "pygments_lexer": "ipython3",
   "version": "3.9.12"
  },
  "vscode": {
   "interpreter": {
    "hash": "347ffee9a99e52852db789bee780e2ff9f0199def1c1e3e89cfcb73566e6c065"
   }
  }
 },
 "nbformat": 4,
 "nbformat_minor": 5
}
